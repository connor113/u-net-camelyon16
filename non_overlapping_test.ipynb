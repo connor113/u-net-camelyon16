{
 "cells": [
  {
   "cell_type": "code",
   "execution_count": 4,
   "metadata": {},
   "outputs": [],
   "source": [
    "import os\n",
    "# Get the current working directory\n",
    "current_path = os.getcwd()\n",
    "# Define the relative paths to your data and .venv folders\n",
    "data_path = os.path.join(current_path, 'data')\n",
    "venv_path = os.path.join(current_path, '.venv')\n",
    "\n",
    "# Use the relative paths in your code\n",
    "OPENSLIDE_PATH = os.path.join(venv_path, 'Lib', 'site-packages', 'openslide-win64-20230414', 'bin')\n",
    "\n",
    "if hasattr(os, 'add_dll_directory'):\n",
    "    with os.add_dll_directory(OPENSLIDE_PATH):\n",
    "        import openslide\n",
    "else:\n",
    "    import openslide\n",
    "from src import preprocessing as pp\n",
    "from src import utils as ut\n",
    "from openslide import open_slide\n",
    "import matplotlib.pyplot as plt\n",
    "import numpy as np"
   ]
  },
  {
   "cell_type": "code",
   "execution_count": 2,
   "metadata": {},
   "outputs": [],
   "source": [
    "wsi_path = os.path.join(data_path, 'raw', 'train', 'tumor', 'tumor_001.tif')\n",
    "save_path = os.path.join(data_path, 'preprocessed_patches', 'tumor_001')\n",
    "ann_path = os.path.join(data_path, 'annotations', 'train', 'tumor_001.xml')"
   ]
  },
  {
   "cell_type": "code",
   "execution_count": 3,
   "metadata": {},
   "outputs": [],
   "source": [
    "pp.extract_and_save_patches_and_labels(wsi_path, save_path, 0.1, ann_path, 5, 0, (512, 512), (512, 512), True)"
   ]
  },
  {
   "cell_type": "code",
   "execution_count": 5,
   "metadata": {},
   "outputs": [
    {
     "ename": "KeyError",
     "evalue": "\"Unable to synchronously open object (object 'patches' doesn't exist)\"",
     "output_type": "error",
     "traceback": [
      "\u001b[1;31m---------------------------------------------------------------------------\u001b[0m",
      "\u001b[1;31mKeyError\u001b[0m                                  Traceback (most recent call last)",
      "\u001b[1;32mc:\\Users\\2005348\\Documents\\GitHub\\u-net-camelyon16\\non_overlapping_test.ipynb Cell 4\u001b[0m line \u001b[0;36m1\n\u001b[1;32m----> <a href='vscode-notebook-cell:/c%3A/Users/2005348/Documents/GitHub/u-net-camelyon16/non_overlapping_test.ipynb#W3sZmlsZQ%3D%3D?line=0'>1</a>\u001b[0m ut\u001b[39m.\u001b[39;49mvisualize_patches_from_hdf5(save_path)\n",
      "File \u001b[1;32mc:\\Users\\2005348\\Documents\\GitHub\\u-net-camelyon16\\src\\utils.py:104\u001b[0m, in \u001b[0;36mvisualize_patches_from_hdf5\u001b[1;34m(hdf5_path, num_patches)\u001b[0m\n\u001b[0;32m    101\u001b[0m wsi_names \u001b[39m=\u001b[39m \u001b[39mlist\u001b[39m(f\u001b[39m.\u001b[39mkeys())\n\u001b[0;32m    102\u001b[0m level_names \u001b[39m=\u001b[39m \u001b[39mlist\u001b[39m(f[wsi_names[\u001b[39m0\u001b[39m]]\u001b[39m.\u001b[39mkeys())\n\u001b[1;32m--> 104\u001b[0m patch_group \u001b[39m=\u001b[39m f[\u001b[39mf\u001b[39;49m\u001b[39m\"\u001b[39;49m\u001b[39m{\u001b[39;49;00mwsi_names[\u001b[39m0\u001b[39;49m]\u001b[39m}\u001b[39;49;00m\u001b[39m/\u001b[39;49m\u001b[39m{\u001b[39;49;00mlevel_names[\u001b[39m0\u001b[39;49m]\u001b[39m}\u001b[39;49;00m\u001b[39m/patches\u001b[39;49m\u001b[39m\"\u001b[39;49m]\n\u001b[0;32m    105\u001b[0m label_group \u001b[39m=\u001b[39m f[\u001b[39mf\u001b[39m\u001b[39m\"\u001b[39m\u001b[39m{\u001b[39;00mwsi_names[\u001b[39m0\u001b[39m]\u001b[39m}\u001b[39;00m\u001b[39m/\u001b[39m\u001b[39m{\u001b[39;00mlevel_names[\u001b[39m0\u001b[39m]\u001b[39m}\u001b[39;00m\u001b[39m/labels\u001b[39m\u001b[39m\"\u001b[39m]\n\u001b[0;32m    107\u001b[0m patch_names \u001b[39m=\u001b[39m \u001b[39mlist\u001b[39m(patch_group\u001b[39m.\u001b[39mkeys())\n",
      "File \u001b[1;32mh5py\\_objects.pyx:54\u001b[0m, in \u001b[0;36mh5py._objects.with_phil.wrapper\u001b[1;34m()\u001b[0m\n",
      "File \u001b[1;32mh5py\\_objects.pyx:55\u001b[0m, in \u001b[0;36mh5py._objects.with_phil.wrapper\u001b[1;34m()\u001b[0m\n",
      "File \u001b[1;32mc:\\Users\\2005348\\Documents\\GitHub\\u-net-camelyon16\\.venv\\Lib\\site-packages\\h5py\\_hl\\group.py:357\u001b[0m, in \u001b[0;36mGroup.__getitem__\u001b[1;34m(self, name)\u001b[0m\n\u001b[0;32m    355\u001b[0m         \u001b[39mraise\u001b[39;00m \u001b[39mValueError\u001b[39;00m(\u001b[39m\"\u001b[39m\u001b[39mInvalid HDF5 object reference\u001b[39m\u001b[39m\"\u001b[39m)\n\u001b[0;32m    356\u001b[0m \u001b[39melif\u001b[39;00m \u001b[39misinstance\u001b[39m(name, (\u001b[39mbytes\u001b[39m, \u001b[39mstr\u001b[39m)):\n\u001b[1;32m--> 357\u001b[0m     oid \u001b[39m=\u001b[39m h5o\u001b[39m.\u001b[39;49mopen(\u001b[39mself\u001b[39;49m\u001b[39m.\u001b[39;49mid, \u001b[39mself\u001b[39;49m\u001b[39m.\u001b[39;49m_e(name), lapl\u001b[39m=\u001b[39;49m\u001b[39mself\u001b[39;49m\u001b[39m.\u001b[39;49m_lapl)\n\u001b[0;32m    358\u001b[0m \u001b[39melse\u001b[39;00m:\n\u001b[0;32m    359\u001b[0m     \u001b[39mraise\u001b[39;00m \u001b[39mTypeError\u001b[39;00m(\u001b[39m\"\u001b[39m\u001b[39mAccessing a group is done with bytes or str, \u001b[39m\u001b[39m\"\u001b[39m\n\u001b[0;32m    360\u001b[0m                     \u001b[39m\"\u001b[39m\u001b[39mnot \u001b[39m\u001b[39m{}\u001b[39;00m\u001b[39m\"\u001b[39m\u001b[39m.\u001b[39mformat(\u001b[39mtype\u001b[39m(name)))\n",
      "File \u001b[1;32mh5py\\_objects.pyx:54\u001b[0m, in \u001b[0;36mh5py._objects.with_phil.wrapper\u001b[1;34m()\u001b[0m\n",
      "File \u001b[1;32mh5py\\_objects.pyx:55\u001b[0m, in \u001b[0;36mh5py._objects.with_phil.wrapper\u001b[1;34m()\u001b[0m\n",
      "File \u001b[1;32mh5py\\h5o.pyx:189\u001b[0m, in \u001b[0;36mh5py.h5o.open\u001b[1;34m()\u001b[0m\n",
      "\u001b[1;31mKeyError\u001b[0m: \"Unable to synchronously open object (object 'patches' doesn't exist)\""
     ]
    }
   ],
   "source": [
    "ut.visualize_patches_from_hdf5(save_path)"
   ]
  }
 ],
 "metadata": {
  "kernelspec": {
   "display_name": ".venv",
   "language": "python",
   "name": "python3"
  },
  "language_info": {
   "codemirror_mode": {
    "name": "ipython",
    "version": 3
   },
   "file_extension": ".py",
   "mimetype": "text/x-python",
   "name": "python",
   "nbconvert_exporter": "python",
   "pygments_lexer": "ipython3",
   "version": "3.11.4"
  }
 },
 "nbformat": 4,
 "nbformat_minor": 2
}
