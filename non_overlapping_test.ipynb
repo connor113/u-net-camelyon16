{
 "cells": [
  {
   "cell_type": "code",
   "execution_count": 1,
   "metadata": {},
   "outputs": [],
   "source": [
    "import os\n",
    "# Get the current working directory\n",
    "current_path = os.getcwd()\n",
    "# Define the relative paths to your data and .venv folders\n",
    "data_path = os.path.join(current_path, 'data')\n",
    "venv_path = os.path.join(current_path, '.venv')\n",
    "\n",
    "# Use the relative paths in your code\n",
    "OPENSLIDE_PATH = os.path.join(venv_path, 'Lib', 'site-packages', 'openslide-win64-20230414', 'bin')\n",
    "\n",
    "if hasattr(os, 'add_dll_directory'):\n",
    "    with os.add_dll_directory(OPENSLIDE_PATH):\n",
    "        import openslide\n",
    "else:\n",
    "    import openslide\n",
    "from src import preprocessing as pp\n",
    "from openslide import open_slide\n",
    "import matplotlib.pyplot as plt\n",
    "import numpy as np"
   ]
  },
  {
   "cell_type": "code",
   "execution_count": 3,
   "metadata": {},
   "outputs": [],
   "source": [
    "wsi_path = os.path.join(data_path, 'raw', 'train', 'tumor', 'tumor_001.tif')\n",
    "save_path = os.path.join(data_path, 'preprocessed_patches', 'tumor_001')\n",
    "ann_path = os.path.join(data_path, 'annotations', 'train', 'tumor_001.xml')"
   ]
  },
  {
   "cell_type": "code",
   "execution_count": 4,
   "metadata": {},
   "outputs": [
    {
     "name": "stdout",
     "output_type": "stream",
     "text": [
      "(221184, 97792)\n",
      "(97792, 221184)\n"
     ]
    }
   ],
   "source": [
    "pp.extract_and_save_patches_and_labels(wsi_path, save_path, 0.1, ann_path, 5, 0, (512, 512), (512, 512), True)"
   ]
  }
 ],
 "metadata": {
  "kernelspec": {
   "display_name": ".venv",
   "language": "python",
   "name": "python3"
  },
  "language_info": {
   "codemirror_mode": {
    "name": "ipython",
    "version": 3
   },
   "file_extension": ".py",
   "mimetype": "text/x-python",
   "name": "python",
   "nbconvert_exporter": "python",
   "pygments_lexer": "ipython3",
   "version": "3.11.4"
  }
 },
 "nbformat": 4,
 "nbformat_minor": 2
}
