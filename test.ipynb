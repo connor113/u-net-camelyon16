{
 "cells": [
  {
   "cell_type": "code",
   "execution_count": null,
   "metadata": {},
   "outputs": [],
   "source": [
    "import os\n",
    "# Get the current working directory\n",
    "current_path = os.getcwd()\n",
    "\n",
    "# Define the relative paths to your data and .venv folders\n",
    "data_path = os.path.join(current_path, 'data')\n",
    "venv_path = os.path.join(current_path, '.venv')\n",
    "\n",
    "# Use the relative paths in your code\n",
    "OPENSLIDE_PATH = os.path.join(venv_path, 'Lib', 'site-packages', 'openslide-win64-20230414', 'bin')\n",
    "\n",
    "if hasattr(os, 'add_dll_directory'):\n",
    "    with os.add_dll_directory(OPENSLIDE_PATH):\n",
    "        import openslide\n",
    "else:\n",
    "    import openslide\n",
    "import utils.preprocessing as pp\n",
    "from openslide import open_slide\n",
    "import matplotlib.pyplot as plt\n",
    "import numpy as np"
   ]
  },
  {
   "cell_type": "code",
   "execution_count": null,
   "metadata": {},
   "outputs": [],
   "source": [
    "slide_path = os.path.join(data_path, 'training', 'tumor', 'tumor_001.tif')\n",
    "ann_path = os.path.join(data_path, 'training', 'lesion_annotations_training',\n",
    "                         'tumor_001.xml')"
   ]
  },
  {
   "cell_type": "code",
   "execution_count": null,
   "metadata": {},
   "outputs": [],
   "source": [
    "slide = open_slide(slide_path)\n",
    "f_mask = pp.foreground_background_segmentation(slide_path)\n",
    "pp.visualize_mask_on_slide_side_by_side(slide, f_mask, level=3)"
   ]
  },
  {
   "cell_type": "code",
   "execution_count": null,
   "metadata": {},
   "outputs": [],
   "source": [
    "polygons = pp.annotations_to_coordinates(ann_path)\n",
    "p_samples, p_sample_origins = pp.sample_positive_patches(slide_path, polygons, 256, 10)"
   ]
  },
  {
   "cell_type": "code",
   "execution_count": null,
   "metadata": {},
   "outputs": [],
   "source": [
    "gt_mask = pp.coordinates_to_mask(polygons, slide.dimensions)\n",
    "p_sample_labels = pp.assign_patch_labels(256, p_sample_origins, gt_mask)"
   ]
  },
  {
   "cell_type": "code",
   "execution_count": null,
   "metadata": {},
   "outputs": [],
   "source": [
    "pp.visualise_patch_and_label(p_samples[0], p_sample_labels[0])\n"
   ]
  },
  {
   "cell_type": "code",
   "execution_count": null,
   "metadata": {},
   "outputs": [],
   "source": [
    "n_samples, n_sample_origins = pp.sample_negative_patches(slide_path, f_mask, polygons, 256, 10)\n",
    "n_sample_labels = pp.assign_patch_labels(256, n_sample_origins, gt_mask)\n",
    "pp.visualise_patch_and_label(n_samples[0], n_sample_labels[0])"
   ]
  },
  {
   "cell_type": "code",
   "execution_count": null,
   "metadata": {},
   "outputs": [],
   "source": [
    "bc_samples, bc_sample_origins = pp.boundary_centered_sample_patches(slide_path, polygons, 256, 10)\n",
    "bc_sample_labels = pp.assign_patch_labels(256, bc_sample_origins, gt_mask)\n",
    "pp.visualise_patch_and_label(bc_samples[0], bc_sample_labels[0])"
   ]
  },
  {
   "cell_type": "code",
   "execution_count": null,
   "metadata": {},
   "outputs": [],
   "source": [
    "b_samples, b_sample_origins = pp.sample_boundary_patches(slide_path, polygons, 256, 10)\n",
    "b_sample_labels = pp.assign_patch_labels(256, b_sample_origins, gt_mask)\n",
    "pp.visualise_patch_and_label(b_samples[0], b_sample_labels[0])"
   ]
  }
 ],
 "metadata": {
  "kernelspec": {
   "display_name": ".venv",
   "language": "python",
   "name": "python3"
  },
  "language_info": {
   "codemirror_mode": {
    "name": "ipython",
    "version": 3
   },
   "file_extension": ".py",
   "mimetype": "text/x-python",
   "name": "python",
   "nbconvert_exporter": "python",
   "pygments_lexer": "ipython3",
   "version": "3.11.4"
  },
  "orig_nbformat": 4
 },
 "nbformat": 4,
 "nbformat_minor": 2
}
